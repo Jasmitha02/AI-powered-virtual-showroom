{
 "cells": [
  {
   "cell_type": "code",
   "execution_count": 14,
   "id": "06f2e5a3",
   "metadata": {},
   "outputs": [],
   "source": [
    "import os\n",
    "import numpy as np\n",
    "import pandas as pd\n",
    "import cv2\n",
    "from tqdm import tqdm\n",
    "import tensorflow as tf\n",
    "from sklearn.metrics import accuracy_score"
   ]
  },
  {
   "cell_type": "code",
   "execution_count": 15,
   "id": "38360862",
   "metadata": {},
   "outputs": [],
   "source": [
    "def cal_iou(y_true, y_pred):\n",
    "    x1 = max(y_true[0], y_pred[0])\n",
    "    y1 = max(y_true[1], y_pred[1])\n",
    "    x2 = min(y_true[2], y_pred[2])\n",
    "    y2 = min(y_true[3], y_pred[3])\n",
    "\n",
    "    intersection_area = max(0, x2 - x1 + 1) * max(0, y2 - y1 + 1)\n",
    "\n",
    "    true_area = (y_true[2] - y_true[0] + 1) * (y_true[3] - y_true[1] + 1)\n",
    "    bbox_area = (y_pred[2] - y_pred[0] + 1) * (y_pred[3] - y_pred[1] + 1)\n",
    "\n",
    "    iou = intersection_area / float(true_area + bbox_area - intersection_area)\n",
    "    return iou"
   ]
  },
  {
   "cell_type": "code",
   "execution_count": 16,
   "id": "feec9f1d",
   "metadata": {},
   "outputs": [],
   "source": [
    "global height\n",
    "global width\n",
    "global num_classes\n",
    "global label_names\n",
    "np.random.seed(42)\n",
    "tf.random.set_seed(42)\n",
    "height = 256\n",
    "width = 320\n",
    "mean_iou = []\n",
    "pred_labels = []"
   ]
  },
  {
   "cell_type": "code",
   "execution_count": 17,
   "id": "14b0d58b",
   "metadata": {},
   "outputs": [],
   "source": [
    "# Load Labels and Return Names of Classes\n",
    "def load_labels(path):\n",
    "    df = pd.read_csv(os.path.join(path,\"names.csv\"),header=None) # Reading the csv file\n",
    "    print(df.head())\n",
    "    names = df[0].tolist() #convert it to list\n",
    "    return names"
   ]
  },
  {
   "cell_type": "code",
   "execution_count": 19,
   "id": "88179140",
   "metadata": {},
   "outputs": [
    {
     "name": "stdout",
     "output_type": "stream",
     "text": [
      "                            0\n",
      "0  AM General Hummer SUV 2000\n",
      "1         Acura RL Sedan 2012\n",
      "2         Acura TL Sedan 2012\n",
      "3        Acura TL Type-S 2008\n",
      "4        Acura TSX Sedan 2012\n"
     ]
    }
   ],
   "source": [
    "classes = load_labels(\"Stanford Car Dataset/\")\n",
    "num_classes = len(classes)"
   ]
  },
  {
   "cell_type": "code",
   "execution_count": 20,
   "id": "056b9fae",
   "metadata": {},
   "outputs": [],
   "source": [
    "model_path = os.path.join(\"files\", \"model.h5\")"
   ]
  },
  {
   "cell_type": "code",
   "execution_count": 21,
   "id": "411acff8",
   "metadata": {},
   "outputs": [],
   "source": [
    "model = tf.keras.models.load_model(model_path)"
   ]
  },
  {
   "cell_type": "code",
   "execution_count": 24,
   "id": "6cda81dc",
   "metadata": {},
   "outputs": [],
   "source": [
    "cap = cv2.VideoCapture(0)\n",
    "while cap.isOpened():\n",
    "    _, image = cap.read()\n",
    "    x = cv2.resize(image, (width, height))\n",
    "    x = (x - 127.5) / 127.5\n",
    "    x = np.expand_dims(x, axis=0)\n",
    "\n",
    "\n",
    "\n",
    "    \"\"\" Prediction \"\"\"\n",
    "    pred_bbox, label = model.predict(x, verbose=0)\n",
    "    pred_bbox = pred_bbox[0]\n",
    "    label_index = np.argmax(label[0])\n",
    "    pred_labels.append(label_index+1)\n",
    "\n",
    "    \"\"\" Rescale the bbox points. \"\"\"\n",
    "    pred_x1 = int(pred_bbox[0] * image.shape[1])\n",
    "    pred_y1 = int(pred_bbox[1] * image.shape[0])\n",
    "    pred_x2 = int(pred_bbox[2] * image.shape[1])\n",
    "    pred_y2 = int(pred_bbox[3] * image.shape[0])\n",
    "\n",
    "\n",
    "    \"\"\" Plot bbox on image \"\"\"\n",
    "    image = cv2.rectangle(image, (pred_x1, pred_y1), (pred_x2, pred_y2), (0, 0, 255), 2) ## RED\n",
    "\n",
    "    \"\"\" Plot predicted class label and score \"\"\"\n",
    "    font_size = 1\n",
    "    pred_class_name = classes[label_index]\n",
    "    text = f\"{pred_class_name}\"\n",
    "    cv2.putText(image, text, (pred_x1, pred_y1 - 10), cv2.FONT_HERSHEY_SIMPLEX, font_size, (0, 0, 255), 2)\n",
    "\n",
    "    \"\"\" Saving the image \"\"\"\n",
    "    cv2.imshow('EyeTrack', image)\n",
    "    \n",
    "    if cv2.waitKey(1) & 0xFF == ord('q'):\n",
    "        break\n",
    "cap.release()\n",
    "cv2.destroyAllWindows()"
   ]
  },
  {
   "cell_type": "code",
   "execution_count": null,
   "id": "955ab0fe",
   "metadata": {},
   "outputs": [],
   "source": []
  }
 ],
 "metadata": {
  "kernelspec": {
   "display_name": "tf2up",
   "language": "python",
   "name": "tf2up"
  },
  "language_info": {
   "codemirror_mode": {
    "name": "ipython",
    "version": 3
   },
   "file_extension": ".py",
   "mimetype": "text/x-python",
   "name": "python",
   "nbconvert_exporter": "python",
   "pygments_lexer": "ipython3",
   "version": "3.8.8"
  }
 },
 "nbformat": 4,
 "nbformat_minor": 5
}
